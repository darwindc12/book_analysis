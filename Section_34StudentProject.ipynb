{
 "cells": [
  {
   "cell_type": "markdown",
   "id": "7c3f8ca2-a081-41b9-9a03-b1f5b904f3e1",
   "metadata": {},
   "source": [
    "# Load the data"
   ]
  },
  {
   "cell_type": "code",
   "execution_count": 3,
   "id": "e6d34205-9e70-4702-8605-44dc225af585",
   "metadata": {},
   "outputs": [],
   "source": [
    "with open(\"miracle_in_the_andes.txt\", \"r\", encoding=\"utf-8\") as file:\n",
    "    book = file.read()"
   ]
  },
  {
   "cell_type": "markdown",
   "id": "4fc4da8d-7670-4988-9d76-ccedaa4d90de",
   "metadata": {},
   "source": [
    "# Extract the paragraphs where \"love\" was used"
   ]
  },
  {
   "cell_type": "code",
   "execution_count": 2,
   "id": "79443cc8-0012-404b-9513-26d583d46096",
   "metadata": {},
   "outputs": [],
   "source": [
    "import re"
   ]
  },
  {
   "cell_type": "code",
   "execution_count": 49,
   "id": "2e79b1b1-638b-4514-be7a-61fea0e8ba5a",
   "metadata": {},
   "outputs": [],
   "source": [
    "pattern = re.compile(\"[^\\n]+love[^\\n]*\")\n",
    "finding = re.findall(pattern, book)"
   ]
  },
  {
   "cell_type": "code",
   "execution_count": 51,
   "id": "d9c2b004-a634-4489-ab42-85c6eb6dcdbd",
   "metadata": {},
   "outputs": [
    {
     "data": {
      "text/plain": [
       "['To me, this is the essence of rugby. No other sport gives you such an intense sense of selflessness and unified purpose. I believe this is why rugby players all over the world feel such a passion for the game and such a feeling of brotherhood. As a young man, of course, I could not put these things into words, but I knew, and my teammates knew, that there was something special about the game, and under the guidance of the Christian Brothers we developed a passionate love for the sport that shaped our friendships and our lives. For eight years we played our hearts out for the Christian Brothers—a brotherhood of young boys with Latin names, playing a game with deep Anglo roots under Uruguay’s sunny skies, and proudly wearing the bright green shamrock on our uniforms. The game became so much a part of our lives, in fact, that when we graduated from Stella Maris at the age of sixteen, many of us could not bear the thought that our playing days were over. Our salvation came in the form of the Old Christians Club, a private rugby team formed in 1965 by previous alumni of the Stella Maris rugby program to give Stella Maris ruggers a chance to continue playing the game after our school years ended.',\n",
       " 'There were others—Alexis Hounie, Gastón Costemalle, Daniel Shaw—all of them great players and all of them my friends. But my oldest friend was Guido Magri. He and I had met on my first day at the Stella Maris School—I was eight years old and Guido was one year older—and we had been inseparable ever since. Guido and I grew up together, playing soccer and sharing a love of motorcycles, cars, and auto racing. When I was fifteen we both had mopeds that we had modified in silly ways—removing the mufflers, turn signals, and fenders—and we would ride them to Las Delicias, a famous ice cream parlor in our neighborhood, where we would drool over the girls from the nearby School Sagrado Corazón, hoping to impress them with our souped-up scooters. Guido was a dependable friend, with a good sense of humor and an easy laugh. He was also an outstanding scrum half, as quick and smart as a fox, with good hands and great courage. Under the guidance of the Christian Brothers, both of us grew to love the game of rugby with a consuming passion. As seasons passed we worked hard to improve our skills, and by the time I was fifteen we had each earned a spot on the Stella Maris First XV, the team’s starting lineup. After graduation, both of us went on to join the Old Christians and spent several happy seasons pursuing the high-octane social life of young rugby players. That rowdiness came to an abrupt end for Guido in 1969, when he met and fell in love with the beautiful daughter of a Chilean diplomat. She was now his fiancée, and he was happy to behave himself for her sake.']"
      ]
     },
     "execution_count": 51,
     "metadata": {},
     "output_type": "execute_result"
    }
   ],
   "source": [
    "finding[:2]"
   ]
  },
  {
   "cell_type": "markdown",
   "id": "5c5457d6-e7a3-496b-aeb6-3bd2c05149dd",
   "metadata": {},
   "source": [
    "# Extract the chapter titles"
   ]
  },
  {
   "cell_type": "code",
   "execution_count": 52,
   "id": "c91edab7-10e5-4320-810f-61be5a8849f6",
   "metadata": {},
   "outputs": [],
   "source": [
    "import re"
   ]
  },
  {
   "cell_type": "code",
   "execution_count": 57,
   "id": "cb773d7e-3173-41a0-b200-d2f1994eb2c4",
   "metadata": {},
   "outputs": [],
   "source": [
    "pattern = re.compile(\"([a-zA-Z]+)\\n\\n\")\n",
    "finding = re.findall(pattern, book)"
   ]
  },
  {
   "cell_type": "code",
   "execution_count": 58,
   "id": "1b648a01-ecdf-4d60-9bdd-96c846573f3b",
   "metadata": {},
   "outputs": [
    {
     "data": {
      "text/plain": [
       "['Before',\n",
       " 'Precious',\n",
       " 'Promise',\n",
       " 'More',\n",
       " 'Abandoned',\n",
       " 'Tomb',\n",
       " 'East',\n",
       " 'Death',\n",
       " 'Man',\n",
       " 'After']"
      ]
     },
     "execution_count": 58,
     "metadata": {},
     "output_type": "execute_result"
    }
   ],
   "source": [
    "finding"
   ]
  },
  {
   "cell_type": "markdown",
   "id": "64df971f-e7d2-4136-b574-207768f963ef",
   "metadata": {},
   "source": [
    "# Function that finds the occurence of the word"
   ]
  },
  {
   "cell_type": "code",
   "execution_count": 66,
   "id": "d865364b-8419-4a50-9b5a-70dd4cb14cd7",
   "metadata": {},
   "outputs": [],
   "source": [
    "def find(w):\n",
    "    pattern = re.compile(\"[a-zA-Z]+\")\n",
    "    finding = re.findall(pattern, book.lower())\n",
    "    d = {}\n",
    "    for word in finding:\n",
    "        if word in d.keys():\n",
    "            d[word] = d[word] + 1\n",
    "        else:\n",
    "            d[word] = 1\n",
    "    try:\n",
    "        return d[w]\n",
    "    except:\n",
    "        return f\"The book does not contain the word {w}\""
   ]
  },
  {
   "cell_type": "markdown",
   "id": "141136f2-89b9-49b6-9c08-8d6124219f5a",
   "metadata": {},
   "source": [
    "# Call the function"
   ]
  },
  {
   "cell_type": "code",
   "execution_count": 67,
   "id": "abfdb1e7-fd38-455a-9a8e-c58940849155",
   "metadata": {},
   "outputs": [
    {
     "data": {
      "text/plain": [
       "83"
      ]
     },
     "execution_count": 67,
     "metadata": {},
     "output_type": "execute_result"
    }
   ],
   "source": [
    "find(\"love\")"
   ]
  },
  {
   "cell_type": "code",
   "execution_count": null,
   "id": "166ce190-81ba-4bab-a699-1cab6c380826",
   "metadata": {},
   "outputs": [],
   "source": []
  },
  {
   "cell_type": "code",
   "execution_count": null,
   "id": "dd9c2f6c-5a1a-4d4f-be5e-94e8f6f720fe",
   "metadata": {},
   "outputs": [],
   "source": []
  }
 ],
 "metadata": {
  "kernelspec": {
   "display_name": "Python 3 (ipykernel)",
   "language": "python",
   "name": "python3"
  },
  "language_info": {
   "codemirror_mode": {
    "name": "ipython",
    "version": 3
   },
   "file_extension": ".py",
   "mimetype": "text/x-python",
   "name": "python",
   "nbconvert_exporter": "python",
   "pygments_lexer": "ipython3",
   "version": "3.10.6"
  }
 },
 "nbformat": 4,
 "nbformat_minor": 5
}
