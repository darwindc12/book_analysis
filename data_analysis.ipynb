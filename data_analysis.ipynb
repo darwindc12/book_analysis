{
 "cells": [
  {
   "cell_type": "markdown",
   "id": "4beb3b00-ba54-4066-9091-b89cb01e91c5",
   "metadata": {},
   "source": [
    "# Load the data"
   ]
  },
  {
   "cell_type": "code",
   "execution_count": 4,
   "id": "91fa680e-35c3-4292-adbc-615dbcadb197",
   "metadata": {},
   "outputs": [],
   "source": [
    "with open(\"miracle_in_the_andes.txt\", \"r\", encoding='utf-8') as file:\n",
    "    book = file.read()"
   ]
  },
  {
   "cell_type": "code",
   "execution_count": 6,
   "id": "5844b414-9a44-4a4c-921f-8327e487e0bb",
   "metadata": {},
   "outputs": [
    {
     "data": {
      "text/plain": [
       "str"
      ]
     },
     "execution_count": 6,
     "metadata": {},
     "output_type": "execute_result"
    }
   ],
   "source": [
    "type(book)"
   ]
  },
  {
   "cell_type": "markdown",
   "id": "519946de-d795-41d7-b1fd-96715f55b168",
   "metadata": {},
   "source": [
    "# How many chapters?"
   ]
  },
  {
   "cell_type": "markdown",
   "id": "38d94588-a325-4fcd-b547-90b8f7c78014",
   "metadata": {},
   "source": [
    "### with string method"
   ]
  },
  {
   "cell_type": "code",
   "execution_count": 7,
   "id": "7d6b1fb8-461c-47ff-ac48-f33fde8e3a94",
   "metadata": {},
   "outputs": [
    {
     "data": {
      "text/plain": [
       "11"
      ]
     },
     "execution_count": 7,
     "metadata": {},
     "output_type": "execute_result"
    }
   ],
   "source": [
    "book.count(\"Chapter\")"
   ]
  },
  {
   "cell_type": "markdown",
   "id": "8e8184a7-a78c-4d03-bda3-26fbc4f70d1f",
   "metadata": {},
   "source": [
    "### with regex"
   ]
  },
  {
   "cell_type": "code",
   "execution_count": 8,
   "id": "d04a2f6a-baed-40c5-a198-10570de55ef1",
   "metadata": {},
   "outputs": [],
   "source": [
    "import re"
   ]
  },
  {
   "cell_type": "code",
   "execution_count": 11,
   "id": "05a0df04-7d1f-4599-97a2-41b63e8589d5",
   "metadata": {},
   "outputs": [
    {
     "data": {
      "text/plain": [
       "10"
      ]
     },
     "execution_count": 11,
     "metadata": {},
     "output_type": "execute_result"
    }
   ],
   "source": [
    "pattern = re.compile(\"Chapter [0-9]+\")\n",
    "finding = re.findall(pattern, book)\n",
    "len(finding)"
   ]
  },
  {
   "cell_type": "code",
   "execution_count": null,
   "id": "ac0a4dd7-3665-4838-96bf-bd1a5c066c19",
   "metadata": {},
   "outputs": [],
   "source": []
  }
 ],
 "metadata": {
  "kernelspec": {
   "display_name": "Python 3 (ipykernel)",
   "language": "python",
   "name": "python3"
  },
  "language_info": {
   "codemirror_mode": {
    "name": "ipython",
    "version": 3
   },
   "file_extension": ".py",
   "mimetype": "text/x-python",
   "name": "python",
   "nbconvert_exporter": "python",
   "pygments_lexer": "ipython3",
   "version": "3.10.6"
  }
 },
 "nbformat": 4,
 "nbformat_minor": 5
}
